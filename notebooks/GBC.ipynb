{
 "cells": [
  {
   "cell_type": "markdown",
   "metadata": {
    "collapsed": false,
    "jupyter": {
     "outputs_hidden": false
    },
    "pycharm": {
     "name": "#%% md\n"
    }
   },
   "source": [
    "# Gradiant Boosting Classifier"
   ]
  },
  {
   "cell_type": "markdown",
   "source": [
    "## 'Label' Feature"
   ],
   "metadata": {
    "collapsed": false,
    "pycharm": {
     "name": "#%% md\n"
    }
   }
  },
  {
   "cell_type": "code",
   "execution_count": null,
   "outputs": [],
   "source": [
    "import pandas as pd\n",
    "from sklearn.model_selection import train_test_split\n",
    "from scripts import preprocess as ref\n",
    "from sklearn import metrics # is used to create classification results\n",
    "from sklearn.ensemble import GradientBoostingClassifier\n",
    "\n",
    "\n",
    "ORIGINAL_CSV = '../data/UNSW-NB15-BALANCED-TRAIN.csv'\n",
    "\n",
    "origin = pd.read_csv(ORIGINAL_CSV, encoding='ISO-8859-1', low_memory=False)\n",
    "df = ref.preprocess_data(origin)\n",
    "\n",
    "df['srcip'] = pd.factorize(df['srcip'])[0]\n",
    "df['dstip'] = pd.factorize(df['dstip'])[0]"
   ],
   "metadata": {
    "collapsed": false,
    "pycharm": {
     "name": "#%%\n"
    }
   }
  },
  {
   "cell_type": "code",
   "execution_count": null,
   "outputs": [],
   "source": [
    "x = df.drop(['attack_cat', 'Label'], axis=1)\n",
    "y_Label = df['Label']\n",
    "\n",
    "# Train model with 30% of data will be used as a test model\n",
    "x_Label_train, x_Label_test, y_Label_train, y_Label_test \\\n",
    "                                    = train_test_split(x,\n",
    "                                                       y_Label,\n",
    "                                                       test_size=0.3,\n",
    "                                                       shuffle=True,\n",
    "                                                       stratify=y_Label,\n",
    "                                                       random_state=42)"
   ],
   "metadata": {
    "collapsed": false,
    "pycharm": {
     "name": "#%%\n"
    }
   }
  },
  {
   "cell_type": "code",
   "execution_count": null,
   "outputs": [],
   "source": [
    "# Default: max_depth=3, learning_rate=0.1\n",
    "classifier_Label = GradientBoostingClassifier(n_estimators=20,\n",
    "                                              learning_rate=0.5,\n",
    "                                              max_depth=3)\n",
    "classifier_Label.fit(x_Label_train, y_Label_train)"
   ],
   "metadata": {
    "collapsed": false,
    "pycharm": {
     "name": "#%%\n"
    }
   }
  },
  {
   "cell_type": "code",
   "execution_count": null,
   "outputs": [],
   "source": [
    "y_Label_pred = classifier_Label.predict(x_Label_test)"
   ],
   "metadata": {
    "collapsed": false,
    "pycharm": {
     "name": "#%%\n"
    }
   }
  },
  {
   "cell_type": "code",
   "execution_count": null,
   "outputs": [],
   "source": [
    "print(metrics.classification_report(y_Label_test, y_Label_pred))"
   ],
   "metadata": {
    "collapsed": false,
    "pycharm": {
     "name": "#%%\n"
    }
   }
  },
  {
   "cell_type": "markdown",
   "source": [
    "## 'Attack_cat' Feature"
   ],
   "metadata": {
    "collapsed": false,
    "pycharm": {
     "name": "#%% md\n"
    }
   }
  },
  {
   "cell_type": "code",
   "execution_count": null,
   "outputs": [],
   "source": [
    "y_attack_cat = df['attack_cat']\n",
    "\n",
    "# Train model with 30% of data will be used as a test model\n",
    "x_attack_cat_train, x_attack_cat_test, y_attack_cat_train, y_attack_cat_test \\\n",
    "                                    = train_test_split(x,\n",
    "                                                       y_attack_cat,\n",
    "                                                       test_size=0.3,\n",
    "                                                       shuffle=True,\n",
    "                                                       stratify=y_attack_cat,\n",
    "                                                       random_state=32)\n"
   ],
   "metadata": {
    "collapsed": false,
    "pycharm": {
     "name": "#%%\n"
    }
   }
  },
  {
   "cell_type": "code",
   "execution_count": null,
   "outputs": [],
   "source": [
    "# Default: max_depth=3, learning_rate=0.1\n",
    "classifier_attack_cat = GradientBoostingClassifier(learning_rate=0.1,\n",
    "                                                   max_depth=3)\n",
    "\n",
    "classifier_attack_cat.fit(x_attack_cat_train, y_attack_cat_train)"
   ],
   "metadata": {
    "collapsed": false,
    "pycharm": {
     "name": "#%%\n"
    }
   }
  },
  {
   "cell_type": "code",
   "execution_count": null,
   "outputs": [],
   "source": [
    "y_attack_cat_pred = classifier_attack_cat.predict(x_attack_cat_test)"
   ],
   "metadata": {
    "collapsed": false,
    "pycharm": {
     "name": "#%%\n"
    }
   }
  },
  {
   "cell_type": "code",
   "execution_count": null,
   "outputs": [],
   "source": [
    "print(metrics.classification_report(y_attack_cat_test, y_attack_cat_pred,\n",
    "                                    zero_division=0))"
   ],
   "metadata": {
    "collapsed": false,
    "pycharm": {
     "name": "#%%\n"
    }
   }
  },
  {
   "cell_type": "code",
   "execution_count": 52,
   "metadata": {
    "pycharm": {
     "name": "#%%\n"
    }
   },
   "outputs": [
    {
     "name": "stdout",
     "output_type": "stream",
     "text": [
      "              precision    recall  f1-score   support\n",
      "\n",
      "           0       1.00      0.99      0.99     67470\n",
      "           1       1.00      0.98      0.99     45251\n",
      "           2       0.81      0.86      0.83      5090\n",
      "           3       0.60      0.89      0.72      9348\n",
      "           4       0.41      0.13      0.19      3425\n",
      "           5       0.91      0.77      0.83      2953\n",
      "           6       0.65      0.05      0.10       378\n",
      "           7       0.66      0.08      0.14       558\n",
      "           8       0.86      0.83      0.85       314\n",
      "           9       0.15      0.90      0.25       117\n",
      "          10       0.23      0.14      0.18        35\n",
      "\n",
      "    accuracy                           0.94    134939\n",
      "   macro avg       0.66      0.60      0.55    134939\n",
      "weighted avg       0.94      0.94      0.93    134939\n",
      "\n"
     ]
    }
   ],
   "source": [
    "print(metrics.classification_report(y_attack_cat_test, y_attack_cat_pred,\n",
    "                                    zero_division=0))"
   ]
  },
  {
   "cell_type": "code",
   "execution_count": 49,
   "outputs": [],
   "source": [],
   "metadata": {
    "collapsed": false,
    "pycharm": {
     "name": "#%%\n"
    }
   }
  }
 ],
 "metadata": {
  "kernelspec": {
   "display_name": "Python 3 (ipykernel)",
   "language": "python",
   "name": "python3"
  },
  "language_info": {
   "codemirror_mode": {
    "name": "ipython",
    "version": 3
   },
   "file_extension": ".py",
   "mimetype": "text/x-python",
   "name": "python",
   "nbconvert_exporter": "python",
   "pygments_lexer": "ipython3",
   "version": "3.8.1"
  }
 },
 "nbformat": 4,
 "nbformat_minor": 4
}