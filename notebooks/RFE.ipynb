{
 "cells": [
  {
   "cell_type": "markdown",
   "source": [
    "# Recursive Feature Elimination"
   ],
   "metadata": {
    "collapsed": false,
    "pycharm": {
     "name": "#%% md\n"
    }
   }
  },
  {
   "cell_type": "code",
   "execution_count": 7,
   "outputs": [],
   "source": [
    "import pandas as pd\n",
    "from sklearn.model_selection import train_test_split\n",
    "from scripts import preprocess as ref\n",
    "\n",
    "ORIGINAL_CSV = '../data/UNSW-NB15-BALANCED-TRAIN.csv'\n",
    "\n",
    "origin = pd.read_csv(ORIGINAL_CSV, encoding='ISO-8859-1', low_memory=False)\n",
    "df = ref.preprocess_data(origin)\n",
    "\n",
    "df['srcip'] = pd.factorize(df['srcip'])[0]\n",
    "df['dstip'] = pd.factorize(df['dstip'])[0]"
   ],
   "metadata": {
    "collapsed": false,
    "pycharm": {
     "name": "#%%\n"
    }
   }
  },
  {
   "cell_type": "markdown",
   "source": [
    "## 'Label' Feature"
   ],
   "metadata": {
    "collapsed": false,
    "pycharm": {
     "name": "#%% md\n"
    }
   }
  },
  {
   "cell_type": "code",
   "execution_count": 8,
   "outputs": [],
   "source": [
    "x_Label = df.drop(['attack_cat', 'Label'], axis=1)\n",
    "y_Label = df['Label']\n",
    "\n",
    "# Train model with 30% of data will be used as a test model\n",
    "x_Label_train, x_Label_test, y_Label_train, y_Label_test = train_test_split(x_Label,\n",
    "                                                    y_Label,\n",
    "                                                    test_size=0.3,\n",
    "                                                    shuffle=True,\n",
    "                                                    stratify=y_Label,\n",
    "                                                    random_state=42)"
   ],
   "metadata": {
    "collapsed": false,
    "pycharm": {
     "name": "#%%\n"
    }
   }
  },
  {
   "cell_type": "code",
   "execution_count": 9,
   "outputs": [
    {
     "name": "stdout",
     "output_type": "stream",
     "text": [
      "\n",
      "Selected feature names: ['sport' 'dsport' 'sbytes' 'dbytes' 'sttl' 'sloss' 'Sload' 'Dload' 'stcpb'\n",
      " 'dtcpb' 'Sjit' 'Stime' 'Ltime' 'Sintpkt' 'tcprtt' 'synack' 'ackdat'\n",
      " 'ct_state_ttl' 'ct_srv_src' 'ct_srv_dst']\n",
      "Feature ranking: [28  1 27  1 16  6  4  1  1  1 22  1 18 21  1  1 15 14 24 25  1  1  2 10\n",
      " 23 12  1  7  1  1  1  5  1  1  1 26  1 19 17 20  1  1  9  3 11 13  8]\n"
     ]
    }
   ],
   "source": [
    "from sklearn.feature_selection import RFE\n",
    "from sklearn.tree import DecisionTreeClassifier\n",
    "\n",
    "model_Label = DecisionTreeClassifier()\n",
    "rfe_Label = RFE(model_Label, n_features_to_select=20, step=1)\n",
    "rfe_Label.fit(x_Label, y_Label)\n",
    "print(\"\\nSelected feature names:\", rfe_Label.get_feature_names_out())\n",
    "print(\"Feature ranking:\", rfe_Label.ranking_)"
   ],
   "metadata": {
    "collapsed": false,
    "pycharm": {
     "name": "#%%\n"
    }
   }
  },
  {
   "cell_type": "markdown",
   "source": [
    "## 'attack_cat' Feature"
   ],
   "metadata": {
    "collapsed": false,
    "pycharm": {
     "name": "#%% md\n"
    }
   }
  },
  {
   "cell_type": "code",
   "execution_count": 10,
   "outputs": [],
   "source": [
    "x_attack_cat = df.drop(['attack_cat', 'Label'], axis=1)\n",
    "y_attack_cat = df['attack_cat']\n",
    "\n",
    "# Train model with 30% of data will be used as a test model\n",
    "x_attack_cat_train, x_attack_cat_test, y_attack_cat_train, y_attack_cat_test =\\\n",
    "                                    train_test_split(x_attack_cat,\n",
    "                                                    y_attack_cat,\n",
    "                                                    test_size=0.3,\n",
    "                                                    shuffle=True,\n",
    "                                                    stratify=y_attack_cat,\n",
    "                                                    random_state=32)"
   ],
   "metadata": {
    "collapsed": false,
    "pycharm": {
     "name": "#%%\n"
    }
   }
  },
  {
   "cell_type": "code",
   "execution_count": 11,
   "outputs": [
    {
     "name": "stdout",
     "output_type": "stream",
     "text": [
      "\n",
      "Selected feature names: ['sport' 'dsport' 'proto' 'dur' 'sbytes' 'dbytes' 'sttl' 'service' 'Sload'\n",
      " 'Dpkts' 'stcpb' 'dtcpb' 'smeansz' 'dmeansz' 'Djit' 'Ltime' 'Sintpkt'\n",
      " 'synack' 'ackdat' 'ct_srv_dst']\n",
      "Feature ranking: [28  1 27  1  1 19  1  1  1  1 22  4 13  1  1  5 15  1 24 23  1  1  1  1\n",
      " 20 12  7  1  2  1  1  9  6  1  1 25  8 17 26 21  3  1 14 10 16 18 11]\n"
     ]
    }
   ],
   "source": [
    "model_attack_cat = DecisionTreeClassifier()\n",
    "rfe_attack_cat = RFE(model_attack_cat, n_features_to_select=20, step=1)\n",
    "rfe_attack_cat.fit(x_attack_cat, y_attack_cat)\n",
    "print(\"\\nSelected feature names:\", rfe_attack_cat.get_feature_names_out())\n",
    "print(\"Feature ranking:\", rfe_attack_cat.ranking_)"
   ],
   "metadata": {
    "collapsed": false,
    "pycharm": {
     "name": "#%%\n"
    }
   }
  },
  {
   "cell_type": "code",
   "execution_count": 11,
   "outputs": [],
   "source": [],
   "metadata": {
    "collapsed": false,
    "pycharm": {
     "name": "#%%\n"
    }
   }
  }
 ],
 "metadata": {
  "kernelspec": {
   "display_name": "Python 3",
   "language": "python",
   "name": "python3"
  },
  "language_info": {
   "codemirror_mode": {
    "name": "ipython",
    "version": 2
   },
   "file_extension": ".py",
   "mimetype": "text/x-python",
   "name": "python",
   "nbconvert_exporter": "python",
   "pygments_lexer": "ipython2",
   "version": "2.7.6"
  }
 },
 "nbformat": 4,
 "nbformat_minor": 0
}