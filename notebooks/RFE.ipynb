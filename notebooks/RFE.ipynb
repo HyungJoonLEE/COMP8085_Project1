{
 "cells": [
  {
   "cell_type": "markdown",
   "source": [],
   "metadata": {
    "collapsed": false,
    "pycharm": {
     "name": "#%% md\n"
    }
   }
  },
  {
   "cell_type": "markdown",
   "source": [
    "# Baseline model: Gradiant Boosting Classifier with all features"
   ],
   "metadata": {
    "collapsed": false,
    "pycharm": {
     "name": "#%% md\n"
    }
   }
  },
  {
   "cell_type": "code",
   "execution_count": 1,
   "outputs": [],
   "source": [
    "eatures = ['srcip', 'sport', 'dstip', 'dsport',\n",
    "            'proto', 'state', 'dur', 'sbytes',\n",
    "            'dbytes', 'sttl', 'dttl', 'sloss',\n",
    "            'dloss', 'service',\t'Sload', 'Dload',\n",
    "            'Spkts', 'Dpkts', 'swin', 'dwin',\n",
    "            'stcpb', 'dtcpb', 'smeansz', 'dmeansz',\n",
    "            'trans_depth', 'res_bdy_len', 'Sjit', 'Djit',\n",
    "            'Stime', 'Ltime', 'Sintpkt', 'Dintpkt',\t'tcprtt',\n",
    "            'synack', 'ackdat',\t'is_sm_ips_ports', 'ct_state_ttl',\n",
    "            'ct_flw_http_mthd',\t'is_ftp_login',\t'ct_ftp_cmd', 'ct_srv_src',\n",
    "            'ct_srv_dst', 'ct_dst_ltm',\t'ct_src_ ltm', 'ct_src_dport_ltm',\n",
    "            'ct_dst_sport_ltm',\t'ct_dst_src_ltm', 'attack_cat',\t'Label']"
   ],
   "metadata": {
    "collapsed": false,
    "pycharm": {
     "name": "#%%\n"
    }
   }
  },
  {
   "cell_type": "code",
   "execution_count": 2,
   "outputs": [
    {
     "name": "stdout",
     "output_type": "stream",
     "text": [
      "<class 'pandas.core.frame.DataFrame'>\n",
      "RangeIndex: 449796 entries, 0 to 449795\n",
      "Data columns (total 49 columns):\n",
      " #   Column            Non-Null Count   Dtype  \n",
      "---  ------            --------------   -----  \n",
      " 0   srcip             449796 non-null  int64  \n",
      " 1   sport             449796 non-null  int64  \n",
      " 2   dstip             449796 non-null  int64  \n",
      " 3   dsport            449796 non-null  int64  \n",
      " 4   proto             449796 non-null  int64  \n",
      " 5   state             449796 non-null  int64  \n",
      " 6   dur               449796 non-null  float64\n",
      " 7   sbytes            449796 non-null  int64  \n",
      " 8   dbytes            449796 non-null  int64  \n",
      " 9   sttl              449796 non-null  int64  \n",
      " 10  dttl              449796 non-null  int64  \n",
      " 11  sloss             449796 non-null  int64  \n",
      " 12  dloss             449796 non-null  int64  \n",
      " 13  service           449796 non-null  int64  \n",
      " 14  Sload             449796 non-null  float64\n",
      " 15  Dload             449796 non-null  float64\n",
      " 16  Spkts             449796 non-null  int64  \n",
      " 17  Dpkts             449796 non-null  int64  \n",
      " 18  swin              449796 non-null  int64  \n",
      " 19  dwin              449796 non-null  int64  \n",
      " 20  stcpb             449796 non-null  int64  \n",
      " 21  dtcpb             449796 non-null  int64  \n",
      " 22  smeansz           449796 non-null  int64  \n",
      " 23  dmeansz           449796 non-null  int64  \n",
      " 24  trans_depth       449796 non-null  int64  \n",
      " 25  res_bdy_len       449796 non-null  int64  \n",
      " 26  Sjit              449796 non-null  float64\n",
      " 27  Djit              449796 non-null  float64\n",
      " 28  Stime             449796 non-null  int64  \n",
      " 29  Ltime             449796 non-null  int64  \n",
      " 30  Sintpkt           449796 non-null  float64\n",
      " 31  Dintpkt           449796 non-null  float64\n",
      " 32  tcprtt            449796 non-null  float64\n",
      " 33  synack            449796 non-null  float64\n",
      " 34  ackdat            449796 non-null  float64\n",
      " 35  is_sm_ips_ports   449796 non-null  int64  \n",
      " 36  ct_state_ttl      449796 non-null  int64  \n",
      " 37  ct_flw_http_mthd  449796 non-null  float64\n",
      " 38  is_ftp_login      449796 non-null  float64\n",
      " 39  ct_ftp_cmd        449796 non-null  float64\n",
      " 40  ct_srv_src        449796 non-null  int64  \n",
      " 41  ct_srv_dst        449796 non-null  int64  \n",
      " 42  ct_dst_ltm        449796 non-null  int64  \n",
      " 43  ct_src_ ltm       449796 non-null  int64  \n",
      " 44  ct_src_dport_ltm  449796 non-null  int64  \n",
      " 45  ct_dst_sport_ltm  449796 non-null  int64  \n",
      " 46  ct_dst_src_ltm    449796 non-null  int64  \n",
      " 47  attack_cat        449796 non-null  int64  \n",
      " 48  Label             449796 non-null  int64  \n",
      "dtypes: float64(13), int64(36)\n",
      "memory usage: 168.2 MB\n",
      "None\n"
     ]
    }
   ],
   "source": [
    "import matplotlib.pyplot as plt\n",
    "import pandas as pd\n",
    "import numpy as np\n",
    "from sklearn.model_selection import train_test_split\n",
    "from scripts import preprocess as ref\n",
    "\n",
    "ORIGINAL_CSV = '../data/UNSW-NB15-BALANCED-TRAIN.csv'\n",
    "\n",
    "origin = pd.read_csv(ORIGINAL_CSV, encoding='ISO-8859-1', low_memory=False)\n",
    "df = ref.preprocess_data(origin)\n",
    "\n",
    "df['srcip'] = pd.factorize(df['srcip'])[0]\n",
    "df['dstip'] = pd.factorize(df['dstip'])[0]\n",
    "\n",
    "X = df.drop(['attack_cat', 'Label'], axis=1)\n",
    "y = df['Label']\n",
    "\n",
    "# Train model with 30% of data will be used as a test model\n",
    "X_train, X_test, y_train, y_test = train_test_split(X,\n",
    "                                                    y,\n",
    "                                                    test_size=0.3,\n",
    "                                                    shuffle=True,\n",
    "                                                    stratify=y,\n",
    "                                                    random_state=42)\n",
    "\n",
    "print(df.info())"
   ],
   "metadata": {
    "collapsed": false,
    "pycharm": {
     "name": "#%%\n"
    }
   }
  },
  {
   "cell_type": "code",
   "execution_count": null,
   "outputs": [],
   "source": [
    "from sklearn.ensemble import GradientBoostingClassifier\n",
    "from sklearn.metrics import f1_score\n",
    "\n",
    "# Initial classifier\n",
    "gbc = GradientBoostingClassifier(max_depth=5, random_state=42)\n",
    "\n",
    "# Train classifier using all features\n",
    "gbc.fit(X_train, y_train)\n",
    "\n",
    "# Make predictions\n",
    "preds = gbc.predict(X_test)\n",
    "\n",
    "# Evaluate the model using the F1-score\n",
    "f1_score_all = round(f1_score(y_test, preds, average='weighted'), 3)\n",
    "\n",
    "# This f1-score we need to be beat\n",
    "print(f1_score_all)"
   ],
   "metadata": {
    "collapsed": false,
    "pycharm": {
     "name": "#%%\n",
     "is_executing": true
    }
   }
  },
  {
   "cell_type": "markdown",
   "source": [
    "# Recursive Feature Elimination (RFE)"
   ],
   "metadata": {
    "collapsed": false,
    "pycharm": {
     "name": "#%% md\n"
    }
   }
  },
  {
   "cell_type": "code",
   "execution_count": null,
   "outputs": [],
   "source": [
    "# make a copy of test and train set\n",
    "X_train_v3, X_test_v3, y_train_v3, y_test_v3 = X_train.copy(), X_test.copy(), y_train.copy(), y_test.copy()\n",
    "\n",
    "from sklearn.feature_selection import RFE\n",
    "\n",
    "rfe_f1_score_list = []\n",
    "\n",
    "for k in range(1, 13):\n",
    "    RFE_selector = RFE(estimator=gbc, n_features_to_select=k, step=1)\n",
    "    RFE_selector.fit(X_train_v3, y_train_v3)\n",
    "\n",
    "    sel_X_train_v3 = RFE_selector.transform(X_train_v3)\n",
    "    sel_X_test_v3 = RFE_selector.transform(X_test_v3)\n",
    "\n",
    "    gbc.fit(sel_X_train_v3, y_train_v3)\n",
    "    RFE_preds = gbc.predict(sel_X_test_v3)\n",
    "\n",
    "    f1_score_rfe = round(f1_score(y_test_v3, RFE_preds, average='weighted'), 3)\n",
    "\n",
    "    rfe_f1_score_list.append(f1_score_rfe)"
   ],
   "metadata": {
    "collapsed": false,
    "pycharm": {
     "name": "#%%\n",
     "is_executing": true
    }
   }
  },
  {
   "cell_type": "code",
   "execution_count": null,
   "outputs": [],
   "source": [
    "fig, ax = plt.subplots()\n",
    "\n",
    "x = np.arange(1, 13)\n",
    "y = rfe_f1_score_list\n",
    "\n",
    "ax.bar(x, y, width=0.2)\n",
    "ax.set_xlabel('Number of features selected using RFE')\n",
    "ax.set_ylabel('F1-Score (weighted)')\n",
    "ax.set_ylim(0, 1.2)\n",
    "ax.set_xticks(np.arange(1, 13))\n",
    "ax.set_xticklabels(np.arange(1, 13), fontsize=12)\n",
    "\n",
    "for i, v in enumerate(y):\n",
    "    plt.text(x=i+1, y=v+0.05, s=str(v), ha='center')\n",
    "\n",
    "plt.tight_layout()"
   ],
   "metadata": {
    "collapsed": false,
    "pycharm": {
     "name": "#%%\n",
     "is_executing": true
    }
   }
  }
 ],
 "metadata": {
  "kernelspec": {
   "display_name": "Python 3",
   "language": "python",
   "name": "python3"
  },
  "language_info": {
   "codemirror_mode": {
    "name": "ipython",
    "version": 2
   },
   "file_extension": ".py",
   "mimetype": "text/x-python",
   "name": "python",
   "nbconvert_exporter": "python",
   "pygments_lexer": "ipython2",
   "version": "2.7.6"
  }
 },
 "nbformat": 4,
 "nbformat_minor": 0
}