{
 "cells": [
  {
   "cell_type": "markdown",
   "source": [
    "# Recursive Feature Elimination Cross Validation"
   ],
   "metadata": {
    "collapsed": false,
    "pycharm": {
     "name": "#%% md\n"
    }
   }
  },
  {
   "cell_type": "code",
   "execution_count": 2,
   "outputs": [],
   "source": [
    "import pandas as pd\n",
    "from sklearn.model_selection import train_test_split\n",
    "from scripts import preprocess as ref\n",
    "\n",
    "ORIGINAL_CSV = '../data/UNSW-NB15-BALANCED-TRAIN.csv'\n",
    "\n",
    "origin = pd.read_csv(ORIGINAL_CSV, encoding='ISO-8859-1', low_memory=False)\n",
    "df = ref.preprocess_data(origin)\n",
    "\n",
    "df['srcip'] = pd.factorize(df['srcip'])[0]\n",
    "df['dstip'] = pd.factorize(df['dstip'])[0]"
   ],
   "metadata": {
    "collapsed": false,
    "pycharm": {
     "name": "#%%\n"
    }
   }
  },
  {
   "cell_type": "markdown",
   "source": [
    "## 'Label' Feature"
   ],
   "metadata": {
    "collapsed": false,
    "pycharm": {
     "name": "#%% md\n"
    }
   }
  },
  {
   "cell_type": "code",
   "execution_count": 3,
   "outputs": [],
   "source": [
    "x_Label = df.drop(['attack_cat', 'Label'], axis=1)\n",
    "y_Label = df['Label']\n",
    "\n",
    "# Train model with 30% of data will be used as a test model\n",
    "x_Label_train, x_Label_test, y_Label_train, y_Label_test = train_test_split(x_Label,\n",
    "                                                    y_Label,\n",
    "                                                    test_size=0.3,\n",
    "                                                    shuffle=True,\n",
    "                                                    stratify=y_Label,\n",
    "                                                    random_state=42)"
   ],
   "metadata": {
    "collapsed": false,
    "pycharm": {
     "name": "#%%\n"
    }
   }
  },
  {
   "cell_type": "code",
   "execution_count": 4,
   "outputs": [
    {
     "data": {
      "text/plain": "Index(['dsport', 'sttl', 'dmeansz', 'Sintpkt'], dtype='object')"
     },
     "execution_count": 4,
     "metadata": {},
     "output_type": "execute_result"
    }
   ],
   "source": [
    "import warnings\n",
    "from sklearn.linear_model import LogisticRegression\n",
    "from sklearn.feature_selection import RFECV\n",
    "\n",
    "warnings.filterwarnings(action='ignore')\n",
    "\n",
    "estimator_Label = LogisticRegression()\n",
    "\n",
    "# Number of feature to delete every step = 1\n",
    "# Number of cross fold validation\n",
    "selector_Label = RFECV(estimator_Label, step=1, cv = 5)\n",
    "selector_Label = selector_Label.fit(x_Label_train, y_Label_train)\n",
    "\n",
    "selected_columns_Label = x_Label_train.columns[selector_Label.support_]\n",
    "\n",
    "selected_columns_Label"
   ],
   "metadata": {
    "collapsed": false,
    "pycharm": {
     "name": "#%%\n"
    }
   }
  },
  {
   "cell_type": "markdown",
   "source": [
    "## 'attack_cat' Feature"
   ],
   "metadata": {
    "collapsed": false,
    "pycharm": {
     "name": "#%% md\n"
    }
   }
  },
  {
   "cell_type": "code",
   "execution_count": 5,
   "outputs": [],
   "source": [
    "x_attack_cat = df.drop(['attack_cat', 'Label'], axis=1)\n",
    "y_attack_cat = df['attack_cat']\n",
    "\n",
    "# Train model with 30% of data will be used as a test model\n",
    "x_attack_cat_train, x_attack_cat_test, y_attack_cat_train, y_attack_cat_test\\\n",
    "                                        = train_test_split(x_attack_cat,\n",
    "                                                            y_attack_cat,\n",
    "                                                            test_size=0.3,\n",
    "                                                            shuffle=True,\n",
    "                                                            stratify=y_attack_cat,\n",
    "                                                            random_state=42)"
   ],
   "metadata": {
    "collapsed": false,
    "pycharm": {
     "name": "#%%\n"
    }
   }
  },
  {
   "cell_type": "code",
   "execution_count": 6,
   "outputs": [
    {
     "data": {
      "text/plain": "Index(['Dload'], dtype='object')"
     },
     "execution_count": 6,
     "metadata": {},
     "output_type": "execute_result"
    }
   ],
   "source": [
    "estimator_attack_cat = LogisticRegression()\n",
    "\n",
    "# Number of feature to delete every step = 1\n",
    "# Number of cross fold validation\n",
    "selector_attack_cat = RFECV(estimator_attack_cat, step=1, cv = 5)\n",
    "selector_attack_cat = selector_attack_cat.fit(x_attack_cat_train, y_attack_cat_train)\n",
    "\n",
    "selected_columns_attack_cat = x_attack_cat_train.columns[selector_attack_cat.support_]\n",
    "\n",
    "selected_columns_attack_cat"
   ],
   "metadata": {
    "collapsed": false,
    "pycharm": {
     "name": "#%%\n"
    }
   }
  },
  {
   "cell_type": "code",
   "execution_count": null,
   "outputs": [],
   "source": [],
   "metadata": {
    "collapsed": false,
    "pycharm": {
     "name": "#%%\n"
    }
   }
  }
 ],
 "metadata": {
  "kernelspec": {
   "display_name": "Python 3",
   "language": "python",
   "name": "python3"
  },
  "language_info": {
   "codemirror_mode": {
    "name": "ipython",
    "version": 2
   },
   "file_extension": ".py",
   "mimetype": "text/x-python",
   "name": "python",
   "nbconvert_exporter": "python",
   "pygments_lexer": "ipython2",
   "version": "2.7.6"
  }
 },
 "nbformat": 4,
 "nbformat_minor": 0
}