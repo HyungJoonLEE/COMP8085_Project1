{
 "cells": [
  {
   "cell_type": "markdown",
   "source": [
    "# K-Nearest Neighbors"
   ],
   "metadata": {
    "collapsed": false
   },
   "id": "49b450ef000ef47c"
  },
  {
   "cell_type": "markdown",
   "source": [
    "## 'Selected' Features for Label"
   ],
   "metadata": {
    "collapsed": false
   },
   "id": "33ddc7ca7dd5ecd1"
  },
  {
   "cell_type": "code",
   "outputs": [],
   "source": [
    "import pandas as pd\n",
    "from COMP8085_Project1.scripts import preprocess as ref\n",
    "\n",
    "\n",
    "\n",
    "ORIGINAL_CSV = '../data/UNSW-NB15-BALANCED-TRAIN.csv'\n",
    "\n",
    "origin = pd.read_csv(ORIGINAL_CSV, encoding='ISO-8859-1', low_memory=False)\n",
    "df = ref.preprocess_data(origin)\n",
    "\n",
    "df['srcip'] = pd.factorize(df['srcip'])[0]\n",
    "df['dstip'] = pd.factorize(df['dstip'])[0]"
   ],
   "metadata": {
    "collapsed": false,
    "ExecuteTime": {
     "end_time": "2024-03-06T15:52:21.280361036Z",
     "start_time": "2024-03-06T15:52:16.466877958Z"
    }
   },
   "id": "5c60ca41a43a8d5a",
   "execution_count": 2
  },
  {
   "cell_type": "code",
   "outputs": [],
   "source": [
    "\n",
    "from sklearn.preprocessing import StandardScaler\n",
    "\n",
    "X = df.drop(['srcip', 'dstip', 'Label', 'attack_cat'], axis=1)\n",
    "Y = df[\"Label\"]\n",
    "scaler = StandardScaler()\n",
    "X_std = scaler.fit_transform(X)\n"
   ],
   "metadata": {
    "collapsed": false,
    "ExecuteTime": {
     "end_time": "2024-03-06T15:52:22.367459036Z",
     "start_time": "2024-03-06T15:52:21.280509225Z"
    }
   },
   "id": "fb5dd84e306a1b99",
   "execution_count": 3
  },
  {
   "cell_type": "code",
   "outputs": [],
   "source": [
    "import numpy as np\n",
    "from sklearn.feature_selection import SelectKBest, f_regression\n",
    "from matplotlib import pyplot as plt\n",
    "\n",
    "# Select K Best features\n",
    "selector = SelectKBest(score_func=f_regression, k=40)\n",
    "X_new = selector.fit_transform(X_std, Y)\n",
    "\n",
    "# Extract the selected feature names\n",
    "selected_indices = selector.get_support(indices=True)\n",
    "selected_features = X.columns[selected_indices]\n",
    "\n",
    "# Get the feature scores (ensuring to handle NaN scores)\n",
    "scores = selector.scores_\n",
    "scores = np.nan_to_num(scores)\n",
    "\n",
    "# Plotting feature scores\n",
    "plt.figure(figsize=(10, 6))\n",
    "plt.bar(selected_features, scores[selected_indices], tick_label=selected_features)\n",
    "plt.xticks(rotation=90)\n",
    "plt.xlabel('Selected Features')\n",
    "plt.ylabel('Scores')\n",
    "plt.title('Univariate Feature Selection: Feature Scores of Selected Features')\n",
    "plt.tight_layout()  # Adjust layout to make room for the rotated x-axis labels\n",
    "plt.show()"
   ],
   "metadata": {
    "collapsed": false,
    "ExecuteTime": {
     "start_time": "2024-03-06T22:32:07.145457871Z"
    }
   },
   "id": "660db41b7f992d87",
   "execution_count": null
  },
  {
   "cell_type": "markdown",
   "source": [
    "## 'Selected' Features for Attack Cat"
   ],
   "metadata": {
    "collapsed": false
   },
   "id": "6b657e93cce21205"
  },
  {
   "cell_type": "markdown",
   "source": [],
   "metadata": {
    "collapsed": false
   },
   "id": "82731dbdb1a6b1f1"
  },
  {
   "cell_type": "code",
   "outputs": [],
   "source": [
    "X = df.drop(['srcip', 'dstip', 'Label', 'attack_cat'], axis=1)\n",
    "Y = df[\"attack\"]"
   ],
   "metadata": {
    "collapsed": false
   },
   "id": "d42245f9e4e98d4e"
  },
  {
   "cell_type": "code",
   "outputs": [
    {
     "ename": "NameError",
     "evalue": "name 'X_std' is not defined",
     "output_type": "error",
     "traceback": [
      "\u001B[0;31m---------------------------------------------------------------------------\u001B[0m",
      "\u001B[0;31mNameError\u001B[0m                                 Traceback (most recent call last)",
      "Cell \u001B[0;32mIn[1], line 7\u001B[0m\n\u001B[1;32m      5\u001B[0m \u001B[38;5;66;03m# Select K Best features\u001B[39;00m\n\u001B[1;32m      6\u001B[0m selector \u001B[38;5;241m=\u001B[39m SelectKBest(score_func\u001B[38;5;241m=\u001B[39mf_regression, k\u001B[38;5;241m=\u001B[39m\u001B[38;5;241m40\u001B[39m)\n\u001B[0;32m----> 7\u001B[0m X_new \u001B[38;5;241m=\u001B[39m selector\u001B[38;5;241m.\u001B[39mfit_transform(\u001B[43mX_std\u001B[49m, Y)\n\u001B[1;32m      9\u001B[0m \u001B[38;5;66;03m# Extract the selected feature names\u001B[39;00m\n\u001B[1;32m     10\u001B[0m selected_indices \u001B[38;5;241m=\u001B[39m selector\u001B[38;5;241m.\u001B[39mget_support(indices\u001B[38;5;241m=\u001B[39m\u001B[38;5;28;01mTrue\u001B[39;00m)\n",
      "\u001B[0;31mNameError\u001B[0m: name 'X_std' is not defined"
     ]
    }
   ],
   "source": [
    "import numpy as np\n",
    "from sklearn.feature_selection import SelectKBest, f_regression\n",
    "from matplotlib import pyplot as plt\n",
    "\n",
    "# Select K Best features\n",
    "selector = SelectKBest(score_func=f_regression, k=40)\n",
    "X_new = selector.fit_transform(X_std, Y)\n",
    "\n",
    "# Extract the selected feature names\n",
    "selected_indices = selector.get_support(indices=True)\n",
    "selected_features = X.columns[selected_indices]\n",
    "\n",
    "# Get the feature scores (ensuring to handle NaN scores)\n",
    "scores = selector.scores_\n",
    "scores = np.nan_to_num(scores)\n",
    "\n",
    "# Plotting feature scores\n",
    "plt.figure(figsize=(10, 6))\n",
    "plt.bar(selected_features, scores[selected_indices], tick_label=selected_features)\n",
    "plt.xticks(rotation=90)\n",
    "plt.xlabel('Selected Features')\n",
    "plt.ylabel('Scores')\n",
    "plt.title('Univariate Feature Selection: Feature Scores of Selected Features')\n",
    "plt.tight_layout()  # Adjust layout to make room for the rotated x-axis labels\n",
    "plt.show()\n",
    "## 'Selected' Features for Attack Cat\n"
   ],
   "metadata": {
    "collapsed": false,
    "ExecuteTime": {
     "end_time": "2024-03-06T22:32:07.148656976Z",
     "start_time": "2024-03-06T22:32:05.100777154Z"
    }
   },
   "id": "752d72009ad67b15",
   "execution_count": 1
  },
  {
   "cell_type": "code",
   "outputs": [],
   "source": [],
   "metadata": {
    "collapsed": false
   },
   "id": "e8ef80eca018da4c"
  }
 ],
 "metadata": {
  "kernelspec": {
   "display_name": "Python 3",
   "language": "python",
   "name": "python3"
  },
  "language_info": {
   "codemirror_mode": {
    "name": "ipython",
    "version": 2
   },
   "file_extension": ".py",
   "mimetype": "text/x-python",
   "name": "python",
   "nbconvert_exporter": "python",
   "pygments_lexer": "ipython2",
   "version": "2.7.6"
  }
 },
 "nbformat": 4,
 "nbformat_minor": 5
}
