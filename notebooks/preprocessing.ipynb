{
 "cells": [
  {
   "cell_type": "markdown",
   "source": [
    "# Preprocessing\n",
    "\n",
    "#### This ***.ipynb*** is for preprocessing 'UNSW-NB15-BALANCED-TRAIN.csv'.\n",
    "#### The explanation is followed by each result."
   ],
   "metadata": {
    "collapsed": false,
    "pycharm": {
     "name": "#%% md\n"
    }
   }
  },
  {
   "cell_type": "code",
   "execution_count": 76,
   "outputs": [
    {
     "name": "stdout",
     "output_type": "stream",
     "text": [
      "<class 'pandas.core.frame.DataFrame'>\n",
      "RangeIndex: 449796 entries, 0 to 449795\n",
      "Data columns (total 49 columns):\n",
      " #   Column            Non-Null Count   Dtype  \n",
      "---  ------            --------------   -----  \n",
      " 0   srcip             449796 non-null  object \n",
      " 1   sport             449796 non-null  object \n",
      " 2   dstip             449796 non-null  object \n",
      " 3   dsport            449796 non-null  object \n",
      " 4   proto             449796 non-null  object \n",
      " 5   state             449796 non-null  object \n",
      " 6   dur               449796 non-null  float64\n",
      " 7   sbytes            449796 non-null  int64  \n",
      " 8   dbytes            449796 non-null  int64  \n",
      " 9   sttl              449796 non-null  int64  \n",
      " 10  dttl              449796 non-null  int64  \n",
      " 11  sloss             449796 non-null  int64  \n",
      " 12  dloss             449796 non-null  int64  \n",
      " 13  service           449796 non-null  object \n",
      " 14  Sload             449796 non-null  float64\n",
      " 15  Dload             449796 non-null  float64\n",
      " 16  Spkts             449796 non-null  int64  \n",
      " 17  Dpkts             449796 non-null  int64  \n",
      " 18  swin              449796 non-null  int64  \n",
      " 19  dwin              449796 non-null  int64  \n",
      " 20  stcpb             449796 non-null  int64  \n",
      " 21  dtcpb             449796 non-null  int64  \n",
      " 22  smeansz           449796 non-null  int64  \n",
      " 23  dmeansz           449796 non-null  int64  \n",
      " 24  trans_depth       449796 non-null  int64  \n",
      " 25  res_bdy_len       449796 non-null  int64  \n",
      " 26  Sjit              449796 non-null  float64\n",
      " 27  Djit              449796 non-null  float64\n",
      " 28  Stime             449796 non-null  int64  \n",
      " 29  Ltime             449796 non-null  int64  \n",
      " 30  Sintpkt           449796 non-null  float64\n",
      " 31  Dintpkt           449796 non-null  float64\n",
      " 32  tcprtt            449796 non-null  float64\n",
      " 33  synack            449796 non-null  float64\n",
      " 34  ackdat            449796 non-null  float64\n",
      " 35  is_sm_ips_ports   449796 non-null  int64  \n",
      " 36  ct_state_ttl      449796 non-null  int64  \n",
      " 37  ct_flw_http_mthd  143983 non-null  float64\n",
      " 38  is_ftp_login      127135 non-null  float64\n",
      " 39  ct_ftp_cmd        449796 non-null  object \n",
      " 40  ct_srv_src        449796 non-null  int64  \n",
      " 41  ct_srv_dst        449796 non-null  int64  \n",
      " 42  ct_dst_ltm        449796 non-null  int64  \n",
      " 43  ct_src_ ltm       449796 non-null  int64  \n",
      " 44  ct_src_dport_ltm  449796 non-null  int64  \n",
      " 45  ct_dst_sport_ltm  449796 non-null  int64  \n",
      " 46  ct_dst_src_ltm    449796 non-null  int64  \n",
      " 47  attack_cat        224898 non-null  object \n",
      " 48  Label             449796 non-null  int64  \n",
      "dtypes: float64(12), int64(28), object(9)\n",
      "memory usage: 168.2+ MB\n",
      "None\n"
     ]
    }
   ],
   "source": [
    "import pandas as pd\n",
    "\n",
    "ORIGINAL_CSV = '../data/UNSW-NB15-BALANCED-TRAIN.csv'\n",
    "df = pd.read_csv(ORIGINAL_CSV, encoding='ISO-8859-1', low_memory=False)\n",
    "\n",
    "print(df.info())"
   ],
   "metadata": {
    "collapsed": false,
    "pycharm": {
     "name": "#%%\n"
    }
   }
  },
  {
   "cell_type": "markdown",
   "source": [
    "#### Total number of rows are 449796"
   ],
   "metadata": {
    "collapsed": false,
    "pycharm": {
     "name": "#%% md\n"
    }
   }
  },
  {
   "cell_type": "code",
   "execution_count": 77,
   "outputs": [
    {
     "name": "stdout",
     "output_type": "stream",
     "text": [
      "srcip                    0\n",
      "sport                    0\n",
      "dstip                    0\n",
      "dsport                   0\n",
      "proto                    0\n",
      "state                    0\n",
      "dur                      0\n",
      "sbytes                   0\n",
      "dbytes                   0\n",
      "sttl                     0\n",
      "dttl                     0\n",
      "sloss                    0\n",
      "dloss                    0\n",
      "service                  0\n",
      "Sload                    0\n",
      "Dload                    0\n",
      "Spkts                    0\n",
      "Dpkts                    0\n",
      "swin                     0\n",
      "dwin                     0\n",
      "stcpb                    0\n",
      "dtcpb                    0\n",
      "smeansz                  0\n",
      "dmeansz                  0\n",
      "trans_depth              0\n",
      "res_bdy_len              0\n",
      "Sjit                     0\n",
      "Djit                     0\n",
      "Stime                    0\n",
      "Ltime                    0\n",
      "Sintpkt                  0\n",
      "Dintpkt                  0\n",
      "tcprtt                   0\n",
      "synack                   0\n",
      "ackdat                   0\n",
      "is_sm_ips_ports          0\n",
      "ct_state_ttl             0\n",
      "ct_flw_http_mthd    305813\n",
      "is_ftp_login        322661\n",
      "ct_ftp_cmd               0\n",
      "ct_srv_src               0\n",
      "ct_srv_dst               0\n",
      "ct_dst_ltm               0\n",
      "ct_src_ ltm              0\n",
      "ct_src_dport_ltm         0\n",
      "ct_dst_sport_ltm         0\n",
      "ct_dst_src_ltm           0\n",
      "attack_cat          224898\n",
      "Label                    0\n",
      "dtype: int64\n"
     ]
    }
   ],
   "source": [
    "print(df.isna().sum())"
   ],
   "metadata": {
    "collapsed": false,
    "pycharm": {
     "name": "#%%\n"
    }
   }
  },
  {
   "cell_type": "markdown",
   "source": [
    "#### 305813, 322661, 224898 values are missed respectively"
   ],
   "metadata": {
    "collapsed": false,
    "pycharm": {
     "name": "#%% md\n"
    }
   }
  },
  {
   "cell_type": "code",
   "execution_count": 78,
   "outputs": [
    {
     "name": "stdout",
     "output_type": "stream",
     "text": [
      "0\n"
     ]
    }
   ],
   "source": [
    "count = ((pd.isna(df['attack_cat']) | (df['attack_cat'] == '')) & (df['Label'] == 1)).sum()\n",
    "\n",
    "# Number of empty value of 'attack_cat' feature correspond to abnormal packet\n",
    "print(count)"
   ],
   "metadata": {
    "collapsed": false,
    "pycharm": {
     "name": "#%%\n"
    }
   }
  },
  {
   "cell_type": "markdown",
   "source": [
    "#### All the NaN or none values in 'attack_cat' feature considered normal"
   ],
   "metadata": {
    "collapsed": false,
    "pycharm": {
     "name": "#%% md\n"
    }
   }
  },
  {
   "cell_type": "code",
   "execution_count": 79,
   "outputs": [
    {
     "name": "stdout",
     "output_type": "stream",
     "text": [
      "srcip                    0\n",
      "sport                    0\n",
      "dstip                    0\n",
      "dsport                   0\n",
      "proto                    0\n",
      "state                    0\n",
      "dur                      0\n",
      "sbytes                   0\n",
      "dbytes                   0\n",
      "sttl                     0\n",
      "dttl                     0\n",
      "sloss                    0\n",
      "dloss                    0\n",
      "service                  0\n",
      "Sload                    0\n",
      "Dload                    0\n",
      "Spkts                    0\n",
      "Dpkts                    0\n",
      "swin                     0\n",
      "dwin                     0\n",
      "stcpb                    0\n",
      "dtcpb                    0\n",
      "smeansz                  0\n",
      "dmeansz                  0\n",
      "trans_depth              0\n",
      "res_bdy_len              0\n",
      "Sjit                     0\n",
      "Djit                     0\n",
      "Stime                    0\n",
      "Ltime                    0\n",
      "Sintpkt                  0\n",
      "Dintpkt                  0\n",
      "tcprtt                   0\n",
      "synack                   0\n",
      "ackdat                   0\n",
      "is_sm_ips_ports          0\n",
      "ct_state_ttl             0\n",
      "ct_flw_http_mthd    305813\n",
      "is_ftp_login        322661\n",
      "ct_ftp_cmd               0\n",
      "ct_srv_src               0\n",
      "ct_srv_dst               0\n",
      "ct_dst_ltm               0\n",
      "ct_src_ ltm              0\n",
      "ct_src_dport_ltm         0\n",
      "ct_dst_sport_ltm         0\n",
      "ct_dst_src_ltm           0\n",
      "attack_cat               0\n",
      "Label                    0\n",
      "dtype: int64\n"
     ]
    }
   ],
   "source": [
    "# 'attack_cat' column is cleaned and standardized by filling in missing values with 'normal', removing leading and trailing whitespace, and converting all text to lowercase.\n",
    "\n",
    "df['attack_cat'] = df.attack_cat.fillna(value='normal').apply(\n",
    "        lambda x: x.strip().lower())\n",
    "\n",
    "print(df.isna().sum())"
   ],
   "metadata": {
    "collapsed": false,
    "pycharm": {
     "name": "#%%\n"
    }
   }
  },
  {
   "cell_type": "markdown",
   "source": [
    "#### Fill 'attack_cat', when it is NaN or None to normal"
   ],
   "metadata": {
    "collapsed": false,
    "pycharm": {
     "name": "#%% md\n"
    }
   }
  },
  {
   "cell_type": "markdown",
   "source": [],
   "metadata": {
    "collapsed": false,
    "pycharm": {
     "name": "#%% md\n"
    }
   }
  },
  {
   "cell_type": "code",
   "execution_count": 80,
   "outputs": [],
   "source": [
    "# Change hex ports to decimal value\n",
    "\n",
    "def hex_to_decimal(x):\n",
    "    if str(x).startswith('0x'):\n",
    "        return int(x, 16)  # Convert from hex to decimal\n",
    "    else:\n",
    "        return x\n",
    "\n",
    "df['sport'] = df['sport'].apply(hex_to_decimal)\n",
    "df['dsport'] = df['dsport'].apply(hex_to_decimal)\n",
    "\n",
    "# # Confirm there's no hex value\n",
    "# # After we change to int, we cannot use .str\n",
    "# sport_with_0x = df['sport'].str.startswith('0x')\n",
    "# dsport_with_0x = df['dsport'].str.startswith('0x')\n",
    "# print(\"=> Number hex ports in feature sport and dsport\")\n",
    "# print(sport_with_0x.sum())  # sport with 0x\n",
    "# print(dsport_with_0x.sum()) # dsport_with_0x\n",
    "\n",
    "# Change the value is 538989345 to 65535 of  'sport' and 'dsport'\n",
    "df['sport'] = df['sport'].replace('538989345', '65535')\n",
    "df['dsport'] = df['dsport'].replace('538989345', '65535')\n",
    "\n",
    "# Change the value is '-' to '0' of  'sport' and 'dsport'\n",
    "df['sport'] = df['sport'].replace('-', '0')\n",
    "df['dsport'] = df['dsport'].replace('-', '0')\n",
    "\n",
    "# Change data type to int64\n",
    "df['sport'] = df['sport'].astype(int)\n",
    "df['dsport'] = df['dsport'].astype(int)"
   ],
   "metadata": {
    "collapsed": false,
    "pycharm": {
     "name": "#%%\n"
    }
   }
  },
  {
   "cell_type": "markdown",
   "source": [
    "#### Change hexadecimal ports of 'sport' and 'dsport' to decimal\n",
    "#### Change empty port '-' to '0'\n",
    "#### Change port higher than 538989345  to '65535'\n",
    "#### Change data type from object to int64"
   ],
   "metadata": {
    "collapsed": false,
    "pycharm": {
     "name": "#%% md\n"
    }
   }
  },
  {
   "cell_type": "code",
   "execution_count": 81,
   "outputs": [
    {
     "name": "stdout",
     "output_type": "stream",
     "text": [
      "0\n",
      "0\n"
     ]
    }
   ],
   "source": [
    "# Fill out 'ct_flw_http_mthd', 'is_ftp_login' feature\n",
    "\n",
    "df['ct_flw_http_mthd'] = df['ct_flw_http_mthd'].fillna(0)\n",
    "df['is_ftp_login'] = df['is_ftp_login'].fillna(0)\n",
    "\n",
    "nan_count1 = df['ct_flw_http_mthd'].isna().sum()\n",
    "nan_count2 = df['is_ftp_login'].isna().sum()\n",
    "\n",
    "print(nan_count1)\n",
    "print(nan_count2)"
   ],
   "metadata": {
    "collapsed": false,
    "pycharm": {
     "name": "#%%\n"
    }
   }
  },
  {
   "cell_type": "markdown",
   "source": [
    "#### Fill NaN or None value of 'ct_flw_http_mthd' and 'is_ftp_login' to 0"
   ],
   "metadata": {
    "collapsed": false,
    "pycharm": {
     "name": "#%% md\n"
    }
   }
  },
  {
   "cell_type": "code",
   "execution_count": 82,
   "outputs": [],
   "source": [
    "# 'ct_ftp_cmd' considered as an object\n",
    "# Need to change to float64 and fill out empty value to 0\n",
    "\n",
    "# Convert 'ct_ftp_cmd' to numeric, coercing errors to NaN\n",
    "df['ct_ftp_cmd'] = pd.to_numeric(df['ct_ftp_cmd'], errors='coerce')\n",
    "\n",
    "df['ct_ftp_cmd'] = df['ct_ftp_cmd'].fillna(0)\n",
    "\n",
    "df['ct_ftp_cmd'] = df['ct_ftp_cmd'].astype(float)"
   ],
   "metadata": {
    "collapsed": false,
    "pycharm": {
     "name": "#%%\n"
    }
   }
  },
  {
   "cell_type": "markdown",
   "source": [
    "#### Fill NaN or None value of 'ct_ftp_cmd' to 0\n",
    "#### Change data type from object to float64"
   ],
   "metadata": {
    "collapsed": false,
    "pycharm": {
     "name": "#%% md\n"
    }
   }
  },
  {
   "cell_type": "code",
   "execution_count": 83,
   "outputs": [
    {
     "name": "stdout",
     "output_type": "stream",
     "text": [
      "<class 'pandas.core.frame.DataFrame'>\n",
      "RangeIndex: 449796 entries, 0 to 449795\n",
      "Data columns (total 49 columns):\n",
      " #   Column            Non-Null Count   Dtype  \n",
      "---  ------            --------------   -----  \n",
      " 0   srcip             449796 non-null  object \n",
      " 1   sport             449796 non-null  int64  \n",
      " 2   dstip             449796 non-null  object \n",
      " 3   dsport            449796 non-null  int64  \n",
      " 4   proto             449796 non-null  object \n",
      " 5   state             449796 non-null  object \n",
      " 6   dur               449796 non-null  float64\n",
      " 7   sbytes            449796 non-null  int64  \n",
      " 8   dbytes            449796 non-null  int64  \n",
      " 9   sttl              449796 non-null  int64  \n",
      " 10  dttl              449796 non-null  int64  \n",
      " 11  sloss             449796 non-null  int64  \n",
      " 12  dloss             449796 non-null  int64  \n",
      " 13  service           449796 non-null  object \n",
      " 14  Sload             449796 non-null  float64\n",
      " 15  Dload             449796 non-null  float64\n",
      " 16  Spkts             449796 non-null  int64  \n",
      " 17  Dpkts             449796 non-null  int64  \n",
      " 18  swin              449796 non-null  int64  \n",
      " 19  dwin              449796 non-null  int64  \n",
      " 20  stcpb             449796 non-null  int64  \n",
      " 21  dtcpb             449796 non-null  int64  \n",
      " 22  smeansz           449796 non-null  int64  \n",
      " 23  dmeansz           449796 non-null  int64  \n",
      " 24  trans_depth       449796 non-null  int64  \n",
      " 25  res_bdy_len       449796 non-null  int64  \n",
      " 26  Sjit              449796 non-null  float64\n",
      " 27  Djit              449796 non-null  float64\n",
      " 28  Stime             449796 non-null  int64  \n",
      " 29  Ltime             449796 non-null  int64  \n",
      " 30  Sintpkt           449796 non-null  float64\n",
      " 31  Dintpkt           449796 non-null  float64\n",
      " 32  tcprtt            449796 non-null  float64\n",
      " 33  synack            449796 non-null  float64\n",
      " 34  ackdat            449796 non-null  float64\n",
      " 35  is_sm_ips_ports   449796 non-null  int64  \n",
      " 36  ct_state_ttl      449796 non-null  int64  \n",
      " 37  ct_flw_http_mthd  449796 non-null  float64\n",
      " 38  is_ftp_login      449796 non-null  float64\n",
      " 39  ct_ftp_cmd        449796 non-null  float64\n",
      " 40  ct_srv_src        449796 non-null  int64  \n",
      " 41  ct_srv_dst        449796 non-null  int64  \n",
      " 42  ct_dst_ltm        449796 non-null  int64  \n",
      " 43  ct_src_ ltm       449796 non-null  int64  \n",
      " 44  ct_src_dport_ltm  449796 non-null  int64  \n",
      " 45  ct_dst_sport_ltm  449796 non-null  int64  \n",
      " 46  ct_dst_src_ltm    449796 non-null  int64  \n",
      " 47  attack_cat        449796 non-null  object \n",
      " 48  Label             449796 non-null  int64  \n",
      "dtypes: float64(13), int64(30), object(6)\n",
      "memory usage: 168.2+ MB\n",
      "None\n"
     ]
    }
   ],
   "source": [
    "print(df.info())"
   ],
   "metadata": {
    "collapsed": false,
    "pycharm": {
     "name": "#%%\n"
    }
   }
  },
  {
   "cell_type": "markdown",
   "source": [
    "#### Confirm there is no NaN or None values (449796)"
   ],
   "metadata": {
    "collapsed": false,
    "pycharm": {
     "name": "#%% md\n"
    }
   }
  },
  {
   "cell_type": "code",
   "execution_count": 84,
   "outputs": [
    {
     "name": "stdout",
     "output_type": "stream",
     "text": [
      "<class 'pandas.core.frame.DataFrame'>\n",
      "RangeIndex: 449796 entries, 0 to 449795\n",
      "Data columns (total 49 columns):\n",
      " #   Column            Non-Null Count   Dtype  \n",
      "---  ------            --------------   -----  \n",
      " 0   srcip             449796 non-null  object \n",
      " 1   sport             449796 non-null  int64  \n",
      " 2   dstip             449796 non-null  object \n",
      " 3   dsport            449796 non-null  int64  \n",
      " 4   proto             449796 non-null  int64  \n",
      " 5   state             449796 non-null  int64  \n",
      " 6   dur               449796 non-null  float64\n",
      " 7   sbytes            449796 non-null  int64  \n",
      " 8   dbytes            449796 non-null  int64  \n",
      " 9   sttl              449796 non-null  int64  \n",
      " 10  dttl              449796 non-null  int64  \n",
      " 11  sloss             449796 non-null  int64  \n",
      " 12  dloss             449796 non-null  int64  \n",
      " 13  service           449796 non-null  int64  \n",
      " 14  Sload             449796 non-null  float64\n",
      " 15  Dload             449796 non-null  float64\n",
      " 16  Spkts             449796 non-null  int64  \n",
      " 17  Dpkts             449796 non-null  int64  \n",
      " 18  swin              449796 non-null  int64  \n",
      " 19  dwin              449796 non-null  int64  \n",
      " 20  stcpb             449796 non-null  int64  \n",
      " 21  dtcpb             449796 non-null  int64  \n",
      " 22  smeansz           449796 non-null  int64  \n",
      " 23  dmeansz           449796 non-null  int64  \n",
      " 24  trans_depth       449796 non-null  int64  \n",
      " 25  res_bdy_len       449796 non-null  int64  \n",
      " 26  Sjit              449796 non-null  float64\n",
      " 27  Djit              449796 non-null  float64\n",
      " 28  Stime             449796 non-null  int64  \n",
      " 29  Ltime             449796 non-null  int64  \n",
      " 30  Sintpkt           449796 non-null  float64\n",
      " 31  Dintpkt           449796 non-null  float64\n",
      " 32  tcprtt            449796 non-null  float64\n",
      " 33  synack            449796 non-null  float64\n",
      " 34  ackdat            449796 non-null  float64\n",
      " 35  is_sm_ips_ports   449796 non-null  int64  \n",
      " 36  ct_state_ttl      449796 non-null  int64  \n",
      " 37  ct_flw_http_mthd  449796 non-null  float64\n",
      " 38  is_ftp_login      449796 non-null  float64\n",
      " 39  ct_ftp_cmd        449796 non-null  float64\n",
      " 40  ct_srv_src        449796 non-null  int64  \n",
      " 41  ct_srv_dst        449796 non-null  int64  \n",
      " 42  ct_dst_ltm        449796 non-null  int64  \n",
      " 43  ct_src_ ltm       449796 non-null  int64  \n",
      " 44  ct_src_dport_ltm  449796 non-null  int64  \n",
      " 45  ct_dst_sport_ltm  449796 non-null  int64  \n",
      " 46  ct_dst_src_ltm    449796 non-null  int64  \n",
      " 47  attack_cat        449796 non-null  int64  \n",
      " 48  Label             449796 non-null  int64  \n",
      "dtypes: float64(13), int64(34), object(2)\n",
      "memory usage: 168.2+ MB\n",
      "None\n"
     ]
    }
   ],
   "source": [
    "# According to the explanation of project: \"attributes like proto, you can use the factorize function from pandas library to convert them to numerical format\"\n",
    "\n",
    "# We need to categorize, 'proto', 'state', 'service', 'and attack_cat'\n",
    "\n",
    "need_factorization = ['proto', 'state', 'service', 'attack_cat']\n",
    "\n",
    "for feature in need_factorization:\n",
    "    df[feature] = pd.factorize(df[feature])[0]\n",
    "\n",
    "print(df.info())"
   ],
   "metadata": {
    "collapsed": false,
    "pycharm": {
     "name": "#%%\n"
    }
   }
  },
  {
   "cell_type": "markdown",
   "source": [
    "#### Factorize 'proto', 'state', 'service', 'and attack_cat'"
   ],
   "metadata": {
    "collapsed": false,
    "pycharm": {
     "name": "#%% md\n"
    }
   }
  },
  {
   "cell_type": "code",
   "execution_count": 85,
   "outputs": [],
   "source": [
    "# According to the explanation of project: \"you may also convert Object formatted columns to string type using df [' column name'] astype('str')\"\n",
    "\n",
    "# The last feature we left is  'srcip' and 'dstip' as an object\n",
    "\n",
    "need_string = ['srcip', 'dstip']\n",
    "\n",
    "for feature in need_string:\n",
    "    df[feature] = df[feature].astype(\"string\")"
   ],
   "metadata": {
    "collapsed": false,
    "pycharm": {
     "name": "#%%\n"
    }
   }
  },
  {
   "cell_type": "markdown",
   "source": [
    "#### Change data type from object to string"
   ],
   "metadata": {
    "collapsed": false,
    "pycharm": {
     "name": "#%% md\n"
    }
   }
  },
  {
   "cell_type": "code",
   "execution_count": 86,
   "outputs": [
    {
     "name": "stdout",
     "output_type": "stream",
     "text": [
      "<class 'pandas.core.frame.DataFrame'>\n",
      "RangeIndex: 449796 entries, 0 to 449795\n",
      "Data columns (total 49 columns):\n",
      " #   Column            Non-Null Count   Dtype  \n",
      "---  ------            --------------   -----  \n",
      " 0   srcip             449796 non-null  string \n",
      " 1   sport             449796 non-null  int64  \n",
      " 2   dstip             449796 non-null  string \n",
      " 3   dsport            449796 non-null  int64  \n",
      " 4   proto             449796 non-null  int64  \n",
      " 5   state             449796 non-null  int64  \n",
      " 6   dur               449796 non-null  float64\n",
      " 7   sbytes            449796 non-null  int64  \n",
      " 8   dbytes            449796 non-null  int64  \n",
      " 9   sttl              449796 non-null  int64  \n",
      " 10  dttl              449796 non-null  int64  \n",
      " 11  sloss             449796 non-null  int64  \n",
      " 12  dloss             449796 non-null  int64  \n",
      " 13  service           449796 non-null  int64  \n",
      " 14  Sload             449796 non-null  float64\n",
      " 15  Dload             449796 non-null  float64\n",
      " 16  Spkts             449796 non-null  int64  \n",
      " 17  Dpkts             449796 non-null  int64  \n",
      " 18  swin              449796 non-null  int64  \n",
      " 19  dwin              449796 non-null  int64  \n",
      " 20  stcpb             449796 non-null  int64  \n",
      " 21  dtcpb             449796 non-null  int64  \n",
      " 22  smeansz           449796 non-null  int64  \n",
      " 23  dmeansz           449796 non-null  int64  \n",
      " 24  trans_depth       449796 non-null  int64  \n",
      " 25  res_bdy_len       449796 non-null  int64  \n",
      " 26  Sjit              449796 non-null  float64\n",
      " 27  Djit              449796 non-null  float64\n",
      " 28  Stime             449796 non-null  int64  \n",
      " 29  Ltime             449796 non-null  int64  \n",
      " 30  Sintpkt           449796 non-null  float64\n",
      " 31  Dintpkt           449796 non-null  float64\n",
      " 32  tcprtt            449796 non-null  float64\n",
      " 33  synack            449796 non-null  float64\n",
      " 34  ackdat            449796 non-null  float64\n",
      " 35  is_sm_ips_ports   449796 non-null  int64  \n",
      " 36  ct_state_ttl      449796 non-null  int64  \n",
      " 37  ct_flw_http_mthd  449796 non-null  float64\n",
      " 38  is_ftp_login      449796 non-null  float64\n",
      " 39  ct_ftp_cmd        449796 non-null  float64\n",
      " 40  ct_srv_src        449796 non-null  int64  \n",
      " 41  ct_srv_dst        449796 non-null  int64  \n",
      " 42  ct_dst_ltm        449796 non-null  int64  \n",
      " 43  ct_src_ ltm       449796 non-null  int64  \n",
      " 44  ct_src_dport_ltm  449796 non-null  int64  \n",
      " 45  ct_dst_sport_ltm  449796 non-null  int64  \n",
      " 46  ct_dst_src_ltm    449796 non-null  int64  \n",
      " 47  attack_cat        449796 non-null  int64  \n",
      " 48  Label             449796 non-null  int64  \n",
      "dtypes: float64(13), int64(34), string(2)\n",
      "memory usage: 168.2 MB\n",
      "None\n"
     ]
    }
   ],
   "source": [
    "# Final result\n",
    "print(df.info())"
   ],
   "metadata": {
    "collapsed": false,
    "pycharm": {
     "name": "#%%\n"
    }
   }
  },
  {
   "cell_type": "markdown",
   "source": [
    "#### Successfully changed all the values as requested"
   ],
   "metadata": {
    "collapsed": false,
    "pycharm": {
     "name": "#%% md\n"
    }
   }
  }
 ],
 "metadata": {
  "kernelspec": {
   "display_name": "Python 3 (ipykernel)",
   "language": "python",
   "name": "python3"
  },
  "language_info": {
   "codemirror_mode": {
    "name": "ipython",
    "version": 3
   },
   "file_extension": ".py",
   "mimetype": "text/x-python",
   "name": "python",
   "nbconvert_exporter": "python",
   "pygments_lexer": "ipython3",
   "version": "3.8.1"
  }
 },
 "nbformat": 4,
 "nbformat_minor": 4
}